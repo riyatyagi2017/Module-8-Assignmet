{
 "cells": [
  {
   "cell_type": "markdown",
   "id": "f8a2dd17-893b-4bd9-a15f-24484f940487",
   "metadata": {},
   "source": [
    "Q1. Create one variable containing following type of data:"
   ]
  },
  {
   "cell_type": "markdown",
   "id": "c451f145-e5a5-48f7-91a8-35483b13ae4c",
   "metadata": {},
   "source": [
    "Solution:"
   ]
  },
  {
   "cell_type": "code",
   "execution_count": 1,
   "id": "2415e38d-e929-493c-861d-659102da4fc6",
   "metadata": {},
   "outputs": [],
   "source": [
    "# (i) String\n",
    "a = \"Riya\""
   ]
  },
  {
   "cell_type": "code",
   "execution_count": 2,
   "id": "f451ceca-5432-461f-bb6d-dd6251be80cb",
   "metadata": {},
   "outputs": [
    {
     "name": "stdout",
     "output_type": "stream",
     "text": [
      "Riya\n"
     ]
    }
   ],
   "source": [
    "print(a)"
   ]
  },
  {
   "cell_type": "code",
   "execution_count": 3,
   "id": "401b5c55-5c62-4d13-9628-b360790be4e9",
   "metadata": {},
   "outputs": [
    {
     "name": "stdout",
     "output_type": "stream",
     "text": [
      "<class 'str'>\n"
     ]
    }
   ],
   "source": [
    "print(type(a))"
   ]
  },
  {
   "cell_type": "code",
   "execution_count": 4,
   "id": "98388660-c86b-4629-93f5-b05a4600d088",
   "metadata": {},
   "outputs": [
    {
     "name": "stdout",
     "output_type": "stream",
     "text": [
      "[23, 24.6, 'string', True, (3+4j)]\n",
      "<class 'list'>\n"
     ]
    }
   ],
   "source": [
    "# (ii) list\n",
    "l = [23,24.6,\"string\",True,3+4j]\n",
    "print(l)\n",
    "print(type(l))"
   ]
  },
  {
   "cell_type": "code",
   "execution_count": 5,
   "id": "75eb6d87-bcd3-47bd-882e-ab8fd35a1185",
   "metadata": {},
   "outputs": [
    {
     "name": "stdout",
     "output_type": "stream",
     "text": [
      "23.56\n",
      "<class 'float'>\n"
     ]
    }
   ],
   "source": [
    "# (iii) float\n",
    "f = 23.56\n",
    "print(f)\n",
    "print(type(f))"
   ]
  },
  {
   "cell_type": "code",
   "execution_count": 6,
   "id": "e818ca95-a65e-4b02-b7f6-622416070f21",
   "metadata": {},
   "outputs": [
    {
     "name": "stdout",
     "output_type": "stream",
     "text": [
      "(23, 24.6, 'string', True, (3+4j))\n",
      "<class 'tuple'>\n"
     ]
    }
   ],
   "source": [
    "# (iv) tuple\n",
    "t = (23,24.6,\"string\",True,3+4j)\n",
    "print(t)\n",
    "print(type(t))"
   ]
  },
  {
   "cell_type": "markdown",
   "id": "a6d0dd88-9067-4969-b8ed-1343925a3753",
   "metadata": {},
   "source": [
    "Q.2 Given are some following variables containing data.What will be the data type of given variable."
   ]
  },
  {
   "cell_type": "markdown",
   "id": "7abae4e3-7f86-4436-a48d-2159b588e3eb",
   "metadata": {},
   "source": [
    "Solution:"
   ]
  },
  {
   "cell_type": "code",
   "execution_count": 7,
   "id": "b3e8b5e1-f4f5-4e18-87c6-3dbbde40de27",
   "metadata": {},
   "outputs": [
    {
     "name": "stdout",
     "output_type": "stream",
     "text": [
      "<class 'str'>\n"
     ]
    }
   ],
   "source": [
    "# (i) var1 = ''\n",
    "var1 = ''\n",
    "print(type(var1))"
   ]
  },
  {
   "cell_type": "code",
   "execution_count": 8,
   "id": "0a6c0d9d-f540-4289-81db-b8efbd15524a",
   "metadata": {},
   "outputs": [
    {
     "name": "stdout",
     "output_type": "stream",
     "text": [
      "<class 'str'>\n"
     ]
    }
   ],
   "source": [
    "# (ii) var2 = '[DS,ML,Python]'\n",
    "var2 ='[DS,ML,Python]'\n",
    "print(type(var2))"
   ]
  },
  {
   "cell_type": "code",
   "execution_count": 9,
   "id": "480f8513-dbdf-4090-9b29-c6498a3b437d",
   "metadata": {},
   "outputs": [
    {
     "name": "stdout",
     "output_type": "stream",
     "text": [
      "<class 'list'>\n"
     ]
    }
   ],
   "source": [
    "# (iii) var3 = ['DS','ML','Python']\n",
    "var3 = ['DS','ML','Python']\n",
    "print(type(var3))"
   ]
  },
  {
   "cell_type": "code",
   "execution_count": 10,
   "id": "ee8b55c7-5586-40db-9ade-d5e4b2df7747",
   "metadata": {},
   "outputs": [
    {
     "name": "stdout",
     "output_type": "stream",
     "text": [
      "<class 'int'>\n"
     ]
    }
   ],
   "source": [
    "# (iv) var4 = 1\n",
    "var4 = 1\n",
    "print(type(var4))"
   ]
  },
  {
   "cell_type": "markdown",
   "id": "f0921a8a-5449-4a26-a267-c6e03eb5d3a8",
   "metadata": {},
   "source": [
    "Q 3. Explain the use of the following operators using an example:"
   ]
  },
  {
   "cell_type": "markdown",
   "id": "743ea387-ec0d-4a66-849e-450d2be7ca9e",
   "metadata": {},
   "source": [
    "Solution:"
   ]
  },
  {
   "cell_type": "code",
   "execution_count": 11,
   "id": "c5f593ad-6dbf-46fd-8735-796b8c4490ec",
   "metadata": {},
   "outputs": [
    {
     "data": {
      "text/plain": [
       "8.75"
      ]
     },
     "execution_count": 11,
     "metadata": {},
     "output_type": "execute_result"
    }
   ],
   "source": [
    "# (i) /\n",
    "# Ans : this is an airthmetic opertator use to divide one numerical value from another.\n",
    "# Example:\n",
    "35/4"
   ]
  },
  {
   "cell_type": "code",
   "execution_count": 12,
   "id": "f2441758-713a-4063-8482-9838e7beb7b1",
   "metadata": {},
   "outputs": [
    {
     "data": {
      "text/plain": [
       "3"
      ]
     },
     "execution_count": 12,
     "metadata": {},
     "output_type": "execute_result"
    }
   ],
   "source": [
    "# (ii) %\n",
    "# Ans : this is an airthmetic operator which is used when u want to get the remainder as an output after \n",
    "# dividing one numerical value from another\n",
    "# Example:\n",
    "35%4"
   ]
  },
  {
   "cell_type": "code",
   "execution_count": 13,
   "id": "f9bc6631-f91c-4fe6-b36e-e255d925c394",
   "metadata": {},
   "outputs": [
    {
     "data": {
      "text/plain": [
       "8"
      ]
     },
     "execution_count": 13,
     "metadata": {},
     "output_type": "execute_result"
    }
   ],
   "source": [
    "# (iii) //\n",
    "# Ans :this ia an airthmetic operator which gives floor value of an output of division method.\n",
    "# Example:\n",
    "35//4"
   ]
  },
  {
   "cell_type": "code",
   "execution_count": 14,
   "id": "37597caa-0e7a-4826-8797-fd5e0657e718",
   "metadata": {},
   "outputs": [
    {
     "data": {
      "text/plain": [
       "8"
      ]
     },
     "execution_count": 14,
     "metadata": {},
     "output_type": "execute_result"
    }
   ],
   "source": [
    "# (iv) **\n",
    "# Ans : this is an airthmetic operation which gives output of an exponential method ex : 2 ** 3 = 2*2*2\n",
    "# Example:\n",
    "2**3"
   ]
  },
  {
   "cell_type": "markdown",
   "id": "fda4fd6c-9ab3-4fb0-a9d2-398393c6636f",
   "metadata": {},
   "source": [
    "Q.4 Create a list of length 10 of your choice containing multiple types of data. Using for loop print the element and its data type."
   ]
  },
  {
   "cell_type": "markdown",
   "id": "f3dcaa99-08eb-4b14-ac3b-ba0cf9eeb14f",
   "metadata": {},
   "source": [
    "Solution:"
   ]
  },
  {
   "cell_type": "code",
   "execution_count": 15,
   "id": "c0cd52fb-0c1b-47f4-b195-af3745ad2bba",
   "metadata": {},
   "outputs": [
    {
     "name": "stdout",
     "output_type": "stream",
     "text": [
      "23\n",
      "<class 'int'>\n",
      "34\n",
      "<class 'int'>\n",
      "45\n",
      "<class 'int'>\n",
      "65.6\n",
      "<class 'float'>\n",
      "Riya\n",
      "<class 'str'>\n",
      "pwskilss\n",
      "<class 'str'>\n",
      "Data Science\n",
      "<class 'str'>\n",
      "True\n",
      "<class 'bool'>\n",
      "(3+4j)\n",
      "<class 'complex'>\n",
      "(5+7j)\n",
      "<class 'complex'>\n"
     ]
    }
   ],
   "source": [
    "L1 = [23,34,45,65.6,\"Riya\",\"pwskilss\",\"Data Science\",True,3+4j,5+7j]\n",
    "for i in L1:\n",
    "    print(i)\n",
    "    print(type(i))"
   ]
  },
  {
   "cell_type": "markdown",
   "id": "b55fd515-95b2-40ee-a2ef-a7ec552eb5fb",
   "metadata": {},
   "source": [
    "Q.5. Using a while loop,verify if the number A is purely divisible by number 8 and if so then how many times it can be divisible."
   ]
  },
  {
   "cell_type": "code",
   "execution_count": 17,
   "id": "2f68b660-1688-4c96-b6d2-746840912dd0",
   "metadata": {},
   "outputs": [
    {
     "name": "stdin",
     "output_type": "stream",
     "text": [
      "Enter a number :  32\n"
     ]
    },
    {
     "name": "stdout",
     "output_type": "stream",
     "text": [
      "A is divisble by 8\n",
      "[4.0]\n",
      "Number of times A is divisible is:  1\n"
     ]
    }
   ],
   "source": [
    "A = int(input(\"Enter a number : \"))\n",
    "b = 8\n",
    "L = []\n",
    "while A%b == 0:\n",
    "    print(\"A is divisble by 8\")\n",
    "    A = A/b\n",
    "    L = L + [A]\n",
    "print(L)\n",
    "print(\"Number of times A is divisible is: \",len(L))"
   ]
  },
  {
   "cell_type": "markdown",
   "id": "5efdda8c-0e4f-452b-af93-4beaa93917bb",
   "metadata": {},
   "source": [
    "Q.6 Create a list containing 25 int type data. Using for loop and if else condition print if the element is divisible by 3 or not"
   ]
  },
  {
   "cell_type": "markdown",
   "id": "28ce99cb-bc44-4d9c-b0ef-9c1bebf869bc",
   "metadata": {},
   "source": [
    "Solution"
   ]
  },
  {
   "cell_type": "code",
   "execution_count": 18,
   "id": "416922a4-dc1a-4757-ae55-d4ef307d8ef4",
   "metadata": {},
   "outputs": [],
   "source": [
    "L = list(range(1,26))"
   ]
  },
  {
   "cell_type": "code",
   "execution_count": 19,
   "id": "8bbaac69-7766-465b-a66e-4fca83c0bbb0",
   "metadata": {},
   "outputs": [
    {
     "name": "stdout",
     "output_type": "stream",
     "text": [
      "[1, 2, 3, 4, 5, 6, 7, 8, 9, 10, 11, 12, 13, 14, 15, 16, 17, 18, 19, 20, 21, 22, 23, 24, 25]\n"
     ]
    }
   ],
   "source": [
    "print(L)"
   ]
  },
  {
   "cell_type": "code",
   "execution_count": 20,
   "id": "40f90738-ff33-4d28-ab8a-c83fac874a1a",
   "metadata": {},
   "outputs": [
    {
     "name": "stdout",
     "output_type": "stream",
     "text": [
      "1  is not divisible by 3\n",
      "2  is not divisible by 3\n",
      "3  is divisible by 3 \n",
      "4  is not divisible by 3\n",
      "5  is not divisible by 3\n",
      "6  is divisible by 3 \n",
      "7  is not divisible by 3\n",
      "8  is not divisible by 3\n",
      "9  is divisible by 3 \n",
      "10  is not divisible by 3\n",
      "11  is not divisible by 3\n",
      "12  is divisible by 3 \n",
      "13  is not divisible by 3\n",
      "14  is not divisible by 3\n",
      "15  is divisible by 3 \n",
      "16  is not divisible by 3\n",
      "17  is not divisible by 3\n",
      "18  is divisible by 3 \n",
      "19  is not divisible by 3\n",
      "20  is not divisible by 3\n",
      "21  is divisible by 3 \n",
      "22  is not divisible by 3\n",
      "23  is not divisible by 3\n",
      "24  is divisible by 3 \n",
      "25  is not divisible by 3\n"
     ]
    }
   ],
   "source": [
    "for i in L:\n",
    "    if i%3 == 0:\n",
    "        print(i,\" is divisible by 3 \")\n",
    "    else :\n",
    "        print(i, \" is not divisible by 3\")"
   ]
  },
  {
   "cell_type": "markdown",
   "id": "e9a8a938-1594-4db8-991d-0602e9f62768",
   "metadata": {},
   "source": [
    "Q.7 What do you understand by mutable and immutable data types? Give example for both showing this property."
   ]
  },
  {
   "cell_type": "markdown",
   "id": "4193b5e8-74eb-44c7-845f-d3a694e8b953",
   "metadata": {},
   "source": [
    "Solution"
   ]
  },
  {
   "cell_type": "code",
   "execution_count": 21,
   "id": "75cc83a8-ecc4-4b64-9771-d8fecf4f3d88",
   "metadata": {},
   "outputs": [],
   "source": [
    "# Mutable data type :"
   ]
  },
  {
   "cell_type": "code",
   "execution_count": 29,
   "id": "b7ac048b-fce4-48b5-8a64-747d6c4445ff",
   "metadata": {},
   "outputs": [],
   "source": [
    "# Ans : Mutable data types are those objects which can be changed after they are created through assigning any value. for example : list"
   ]
  },
  {
   "cell_type": "code",
   "execution_count": 30,
   "id": "f1f8ad42-c9e6-4bc6-b4fd-82f97b972e86",
   "metadata": {},
   "outputs": [],
   "source": [
    "L = [23,45,43.3,\"Riya\",True]"
   ]
  },
  {
   "cell_type": "code",
   "execution_count": 31,
   "id": "43ba49ce-2eef-49eb-b172-7716fa2680e6",
   "metadata": {},
   "outputs": [
    {
     "data": {
      "text/plain": [
       "[23, 45, 43.3, 'Riya', True]"
      ]
     },
     "execution_count": 31,
     "metadata": {},
     "output_type": "execute_result"
    }
   ],
   "source": [
    "L"
   ]
  },
  {
   "cell_type": "code",
   "execution_count": 32,
   "id": "0d8a098c-5b65-45b4-98d9-1a70fccb2d37",
   "metadata": {},
   "outputs": [],
   "source": [
    "L[3] = \"pwskills\""
   ]
  },
  {
   "cell_type": "code",
   "execution_count": 33,
   "id": "cc243911-b50a-497f-86d4-c03b361537a3",
   "metadata": {},
   "outputs": [
    {
     "data": {
      "text/plain": [
       "[23, 45, 43.3, 'pwskills', True]"
      ]
     },
     "execution_count": 33,
     "metadata": {},
     "output_type": "execute_result"
    }
   ],
   "source": [
    "L"
   ]
  },
  {
   "cell_type": "code",
   "execution_count": 34,
   "id": "55c55d7c-56c8-4ecd-8d4f-0547334ae947",
   "metadata": {},
   "outputs": [],
   "source": [
    "# immutable data type:"
   ]
  },
  {
   "cell_type": "code",
   "execution_count": 35,
   "id": "b9affa0c-c283-4f2f-8201-3ad41e0a0ca6",
   "metadata": {},
   "outputs": [],
   "source": [
    "# Ans : Immutable data types are those objects which can not be changet after their creation on particular index through assigning any value"
   ]
  },
  {
   "cell_type": "code",
   "execution_count": 36,
   "id": "e25f8f15-a5af-494c-b515-4ee87e420526",
   "metadata": {},
   "outputs": [],
   "source": [
    "s = \"Riya\""
   ]
  },
  {
   "cell_type": "code",
   "execution_count": 37,
   "id": "d80a573c-3b0e-4a58-8540-70e2044d8257",
   "metadata": {},
   "outputs": [
    {
     "ename": "TypeError",
     "evalue": "'str' object does not support item assignment",
     "output_type": "error",
     "traceback": [
      "\u001b[0;31m---------------------------------------------------------------------------\u001b[0m",
      "\u001b[0;31mTypeError\u001b[0m                                 Traceback (most recent call last)",
      "Cell \u001b[0;32mIn[37], line 1\u001b[0m\n\u001b[0;32m----> 1\u001b[0m \u001b[43ms\u001b[49m\u001b[43m[\u001b[49m\u001b[38;5;241;43m1\u001b[39;49m\u001b[43m]\u001b[49m \u001b[38;5;241m=\u001b[39m \u001b[38;5;124m'\u001b[39m\u001b[38;5;124mr\u001b[39m\u001b[38;5;124m'\u001b[39m\n",
      "\u001b[0;31mTypeError\u001b[0m: 'str' object does not support item assignment"
     ]
    }
   ],
   "source": [
    "s[1] = 'r'"
   ]
  },
  {
   "cell_type": "code",
   "execution_count": null,
   "id": "ca8569f8-60d4-4de8-b58c-26b2c454dcba",
   "metadata": {},
   "outputs": [],
   "source": []
  }
 ],
 "metadata": {
  "kernelspec": {
   "display_name": "Python 3 (ipykernel)",
   "language": "python",
   "name": "python3"
  },
  "language_info": {
   "codemirror_mode": {
    "name": "ipython",
    "version": 3
   },
   "file_extension": ".py",
   "mimetype": "text/x-python",
   "name": "python",
   "nbconvert_exporter": "python",
   "pygments_lexer": "ipython3",
   "version": "3.10.8"
  }
 },
 "nbformat": 4,
 "nbformat_minor": 5
}
